{
  "nbformat": 4,
  "nbformat_minor": 0,
  "metadata": {
    "colab": {
      "name": "\bData_Extraction.ipynb",
      "provenance": [],
      "toc_visible": true,
      "authorship_tag": "ABX9TyOln65A/DkyYhZp/lNWssZC",
      "include_colab_link": true
    },
    "kernelspec": {
      "name": "python3",
      "display_name": "Python 3"
    },
    "language_info": {
      "name": "python"
    }
  },
  "cells": [
    {
      "cell_type": "markdown",
      "metadata": {
        "id": "view-in-github",
        "colab_type": "text"
      },
      "source": [
        "<a href=\"https://colab.research.google.com/github/sonluongvu/Palm_structure/blob/main/%08Data_Extraction.ipynb\" target=\"_parent\"><img src=\"https://colab.research.google.com/assets/colab-badge.svg\" alt=\"Open In Colab\"/></a>"
      ]
    },
    {
      "cell_type": "markdown",
      "source": [
        "# Obtaining Data"
      ],
      "metadata": {
        "id": "HmGlZtLIzaDm"
      }
    },
    {
      "cell_type": "markdown",
      "source": [
        "- Palmitoylation site information is obtained from SwissPalm\n",
        "- sites.txt is obtained and convert to sites.csv"
      ],
      "metadata": {
        "id": "zQGnU9s_zgcz"
      }
    },
    {
      "cell_type": "markdown",
      "source": [
        "- Open sites.csv"
      ],
      "metadata": {
        "id": "T-2ssAVN3CZU"
      }
    },
    {
      "cell_type": "code",
      "source": [
        ""
      ],
      "metadata": {
        "id": "TkO71WzX3Hrc"
      },
      "execution_count": null,
      "outputs": []
    }
  ]
}